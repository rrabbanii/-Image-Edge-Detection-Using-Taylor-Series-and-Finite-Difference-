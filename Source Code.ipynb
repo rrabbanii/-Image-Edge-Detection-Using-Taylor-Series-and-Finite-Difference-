{
  "nbformat": 4,
  "nbformat_minor": 0,
  "metadata": {
    "colab": {
      "provenance": []
    },
    "kernelspec": {
      "name": "python3",
      "display_name": "Python 3"
    },
    "language_info": {
      "name": "python"
    }
  },
  "cells": [
    {
      "cell_type": "markdown",
      "source": [
        "# **Assignment 1 - Numerical Methods - Image Edge Detection**\n",
        "\n",
        "Rabbani Nur Kumoro\n",
        "\n",
        "21/472599/PA/20310\n",
        "\n",
        "CSB"
      ],
      "metadata": {
        "id": "7XIffYesCkAD"
      }
    },
    {
      "cell_type": "markdown",
      "source": [
        "# **Libraries Used**"
      ],
      "metadata": {
        "id": "AJGlprQ0DGiT"
      }
    },
    {
      "cell_type": "code",
      "source": [
        "import matplotlib.pyplot as plt # A plotting library used to create a variety of charts and graphs.\n",
        "import numpy as np              # A library for numerical computing.\n",
        "import urllib.request           # A module that provides a way to interact with URLs and download data from the internet.\n",
        "from PIL import Image           # A library used for opening, manipulating, and saving different image file formats."
      ],
      "metadata": {
        "id": "Ri7dcI5sDLXI"
      },
      "execution_count": null,
      "outputs": []
    },
    {
      "cell_type": "markdown",
      "source": [
        "# **Load an Image from URL**"
      ],
      "metadata": {
        "id": "8do6TXRJEHMp"
      }
    },
    {
      "cell_type": "code",
      "source": [
        "url = 'https://i.pinimg.com/originals/33/d5/98/33d598eaab84e888e8bc2c1264effb69.jpg'\n",
        "img = urllib.request.urlopen(url)"
      ],
      "metadata": {
        "id": "NY2cveBuDRPK"
      },
      "execution_count": null,
      "outputs": []
    },
    {
      "cell_type": "markdown",
      "source": [
        "# **Convert the Image to a NumPy Array**"
      ],
      "metadata": {
        "id": "HSNmwzW6EftG"
      }
    },
    {
      "cell_type": "code",
      "source": [
        "img_arr = np.array(Image.open(img).convert('L'))"
      ],
      "metadata": {
        "id": "De96_Hq0DRRP"
      },
      "execution_count": null,
      "outputs": []
    },
    {
      "cell_type": "markdown",
      "source": [
        "# **Taylor Series Function with Central Differences**\n",
        "\n",
        "This is a function that takes an input image as an argument and computes its gradient using Taylor Series with Central Differences. The gradient represents the rate of change of intensity in the image, and can be used to identify areas of high contrast, such as edges or boundaries between objects in the image.\n",
        "\n",
        "The function first initializes two matrices `grad_x` and `grad_y` of the same size as the input image with all elements set to zero.\n",
        "\n",
        "Then, it computes the gradient of the input image in the x direction by looping through each column of the image and applying the central difference formula. Similarly, it computes the gradient in the y direction by looping through each row of the image and applying the same formula.\n",
        "\n",
        "Next, the function combines the gradient in the x and y directions using the Euclidean distance formula to get the overall gradient of the image.\n",
        "\n",
        "Finally, the function returns the computed gradient as a NumPy array."
      ],
      "metadata": {
        "id": "LxSFIxMKEjoc"
      }
    },
    {
      "cell_type": "code",
      "source": [
        "def derivative(image):\n",
        "\n",
        "    # Compute the gradient using Taylor Series with Central Differences\n",
        "    grad_x = np.zeros_like(image)\n",
        "    grad_y = np.zeros_like(image)\n",
        "\n",
        "    # Compute the gradient in the x direction\n",
        "    for i in range(1, image.shape[1]-1):\n",
        "        grad_x[:, i] = (image[:, i+1] - image[:, i-1]) / 2.0 + \\\n",
        "                       (image[:, i+1] - 2*image[:, i] + image[:, i-1]) / 12.0\n",
        "\n",
        "    # Compute the gradient in the y direction\n",
        "    for i in range(1, image.shape[0]-1):\n",
        "        grad_y[i, :] = (image[i+1, :] - image[i-1, :]) / 2.0 + \\\n",
        "                       (image[i+1, :] - 2*image[i, :] + image[i-1, :]) / 12.0\n",
        "\n",
        "    # Combine the gradient in x and y directions\n",
        "    gradient = np.sqrt(np.square(grad_x) + np.square(grad_y))\n",
        "\n",
        "    return gradient"
      ],
      "metadata": {
        "id": "kp4v5X9KEj7-"
      },
      "execution_count": null,
      "outputs": []
    },
    {
      "cell_type": "markdown",
      "source": [
        "# **Results**"
      ],
      "metadata": {
        "id": "vBaMOgGzF4ho"
      }
    },
    {
      "cell_type": "code",
      "source": [
        "# Apply the derivative function to the image\n",
        "edge_map = derivative(img_arr)\n",
        "\n",
        "# Display the original image and the edge detection map\n",
        "fig, axs = plt.subplots(1, 2)\n",
        "axs[0].imshow(img_arr, cmap='gray')\n",
        "axs[0].set_title('Original Image')\n",
        "axs[1].imshow(edge_map, cmap='gray')\n",
        "axs[1].set_title('Edge Detection Map')\n",
        "plt.show()"
      ],
      "metadata": {
        "colab": {
          "base_uri": "https://localhost:8080/",
          "height": 150
        },
        "id": "cz97FHHfF3-L",
        "outputId": "80e4352c-dc2d-4b60-bc28-8d58a0cf89e5"
      },
      "execution_count": null,
      "outputs": [
        {
          "output_type": "display_data",
          "data": {
            "text/plain": [
              "<Figure size 432x288 with 2 Axes>"
            ],
            "image/png": "[encoded data removed]"
          },
          "metadata": {
            "needs_background": "light"
          }
        }
      ]
    }
  ]
}